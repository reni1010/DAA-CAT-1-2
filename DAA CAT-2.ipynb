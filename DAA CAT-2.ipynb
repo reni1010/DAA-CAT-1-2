{
 "cells": [
  {
   "cell_type": "code",
   "execution_count": 1,
   "id": "e92500df",
   "metadata": {},
   "outputs": [],
   "source": [
    "# Importing Libraries\n",
    "import numpy as np\n",
    "import pandas as pd\n",
    "import matplotlib.pyplot as plt\n",
    "import seaborn as sns\n",
    "import random"
   ]
  },
  {
   "cell_type": "markdown",
   "id": "8b94775a",
   "metadata": {},
   "source": [
    "#### data set"
   ]
  },
  {
   "cell_type": "code",
   "execution_count": 2,
   "id": "27b8fa78",
   "metadata": {},
   "outputs": [],
   "source": [
    "df = pd.read_csv(\"bank.csv\")"
   ]
  },
  {
   "cell_type": "code",
   "execution_count": 3,
   "id": "b52c6461",
   "metadata": {
    "scrolled": true
   },
   "outputs": [
    {
     "name": "stdout",
     "output_type": "stream",
     "text": [
      "Shape :  (5000, 14)\n"
     ]
    },
    {
     "data": {
      "text/html": [
       "<div>\n",
       "<style scoped>\n",
       "    .dataframe tbody tr th:only-of-type {\n",
       "        vertical-align: middle;\n",
       "    }\n",
       "\n",
       "    .dataframe tbody tr th {\n",
       "        vertical-align: top;\n",
       "    }\n",
       "\n",
       "    .dataframe thead th {\n",
       "        text-align: right;\n",
       "    }\n",
       "</style>\n",
       "<table border=\"1\" class=\"dataframe\">\n",
       "  <thead>\n",
       "    <tr style=\"text-align: right;\">\n",
       "      <th></th>\n",
       "      <th>ID</th>\n",
       "      <th>Age</th>\n",
       "      <th>Experience</th>\n",
       "      <th>Income</th>\n",
       "      <th>ZIP Code</th>\n",
       "      <th>Family</th>\n",
       "      <th>CCAvg</th>\n",
       "      <th>Education</th>\n",
       "      <th>Mortgage</th>\n",
       "      <th>Personal Loan</th>\n",
       "      <th>Securities Account</th>\n",
       "      <th>CD Account</th>\n",
       "      <th>Online</th>\n",
       "      <th>CreditCard</th>\n",
       "    </tr>\n",
       "  </thead>\n",
       "  <tbody>\n",
       "    <tr>\n",
       "      <th>0</th>\n",
       "      <td>1</td>\n",
       "      <td>25</td>\n",
       "      <td>1</td>\n",
       "      <td>49</td>\n",
       "      <td>91107</td>\n",
       "      <td>4</td>\n",
       "      <td>1.6</td>\n",
       "      <td>1</td>\n",
       "      <td>0</td>\n",
       "      <td>0</td>\n",
       "      <td>1</td>\n",
       "      <td>0</td>\n",
       "      <td>0</td>\n",
       "      <td>0</td>\n",
       "    </tr>\n",
       "    <tr>\n",
       "      <th>1</th>\n",
       "      <td>2</td>\n",
       "      <td>45</td>\n",
       "      <td>19</td>\n",
       "      <td>34</td>\n",
       "      <td>90089</td>\n",
       "      <td>3</td>\n",
       "      <td>1.5</td>\n",
       "      <td>1</td>\n",
       "      <td>0</td>\n",
       "      <td>0</td>\n",
       "      <td>1</td>\n",
       "      <td>0</td>\n",
       "      <td>0</td>\n",
       "      <td>0</td>\n",
       "    </tr>\n",
       "    <tr>\n",
       "      <th>2</th>\n",
       "      <td>3</td>\n",
       "      <td>39</td>\n",
       "      <td>15</td>\n",
       "      <td>11</td>\n",
       "      <td>94720</td>\n",
       "      <td>1</td>\n",
       "      <td>1.0</td>\n",
       "      <td>1</td>\n",
       "      <td>0</td>\n",
       "      <td>0</td>\n",
       "      <td>0</td>\n",
       "      <td>0</td>\n",
       "      <td>0</td>\n",
       "      <td>0</td>\n",
       "    </tr>\n",
       "    <tr>\n",
       "      <th>3</th>\n",
       "      <td>4</td>\n",
       "      <td>35</td>\n",
       "      <td>9</td>\n",
       "      <td>100</td>\n",
       "      <td>94112</td>\n",
       "      <td>1</td>\n",
       "      <td>2.7</td>\n",
       "      <td>2</td>\n",
       "      <td>0</td>\n",
       "      <td>0</td>\n",
       "      <td>0</td>\n",
       "      <td>0</td>\n",
       "      <td>0</td>\n",
       "      <td>0</td>\n",
       "    </tr>\n",
       "    <tr>\n",
       "      <th>4</th>\n",
       "      <td>5</td>\n",
       "      <td>35</td>\n",
       "      <td>8</td>\n",
       "      <td>45</td>\n",
       "      <td>91330</td>\n",
       "      <td>4</td>\n",
       "      <td>1.0</td>\n",
       "      <td>2</td>\n",
       "      <td>0</td>\n",
       "      <td>0</td>\n",
       "      <td>0</td>\n",
       "      <td>0</td>\n",
       "      <td>0</td>\n",
       "      <td>1</td>\n",
       "    </tr>\n",
       "  </tbody>\n",
       "</table>\n",
       "</div>"
      ],
      "text/plain": [
       "   ID  Age  Experience  Income  ZIP Code  Family  CCAvg  Education  Mortgage  \\\n",
       "0   1   25           1      49     91107       4    1.6          1         0   \n",
       "1   2   45          19      34     90089       3    1.5          1         0   \n",
       "2   3   39          15      11     94720       1    1.0          1         0   \n",
       "3   4   35           9     100     94112       1    2.7          2         0   \n",
       "4   5   35           8      45     91330       4    1.0          2         0   \n",
       "\n",
       "   Personal Loan  Securities Account  CD Account  Online  CreditCard  \n",
       "0              0                   1           0       0           0  \n",
       "1              0                   1           0       0           0  \n",
       "2              0                   0           0       0           0  \n",
       "3              0                   0           0       0           0  \n",
       "4              0                   0           0       0           1  "
      ]
     },
     "execution_count": 3,
     "metadata": {},
     "output_type": "execute_result"
    }
   ],
   "source": [
    "print(\"Shape : \", df.shape)\n",
    "df.head()"
   ]
  },
  {
   "cell_type": "markdown",
   "id": "8ee0b800",
   "metadata": {},
   "source": [
    "#### Data preprocessing"
   ]
  },
  {
   "cell_type": "code",
   "execution_count": 6,
   "id": "6aa8d55a",
   "metadata": {},
   "outputs": [
    {
     "ename": "KeyError",
     "evalue": "\"['ID', 'ZIP Code'] not found in axis\"",
     "output_type": "error",
     "traceback": [
      "\u001b[1;31m---------------------------------------------------------------------------\u001b[0m",
      "\u001b[1;31mKeyError\u001b[0m                                  Traceback (most recent call last)",
      "\u001b[1;32m~\\AppData\\Local\\Temp\\ipykernel_9236\\3348688465.py\u001b[0m in \u001b[0;36m<module>\u001b[1;34m\u001b[0m\n\u001b[0;32m      1\u001b[0m \u001b[1;31m# Deleting Columns which are not necessary\u001b[0m\u001b[1;33m\u001b[0m\u001b[1;33m\u001b[0m\u001b[0m\n\u001b[1;32m----> 2\u001b[1;33m \u001b[0mdf\u001b[0m\u001b[1;33m.\u001b[0m\u001b[0mdrop\u001b[0m\u001b[1;33m(\u001b[0m\u001b[1;33m[\u001b[0m\u001b[1;34m\"ID\"\u001b[0m\u001b[1;33m,\u001b[0m \u001b[1;34m\"ZIP Code\"\u001b[0m\u001b[1;33m]\u001b[0m\u001b[1;33m,\u001b[0m\u001b[0maxis\u001b[0m\u001b[1;33m=\u001b[0m\u001b[1;36m1\u001b[0m\u001b[1;33m,\u001b[0m\u001b[0minplace\u001b[0m\u001b[1;33m=\u001b[0m\u001b[1;32mTrue\u001b[0m\u001b[1;33m)\u001b[0m\u001b[1;33m\u001b[0m\u001b[1;33m\u001b[0m\u001b[0m\n\u001b[0m\u001b[0;32m      3\u001b[0m \u001b[0mprint\u001b[0m\u001b[1;33m(\u001b[0m\u001b[0mdf\u001b[0m\u001b[1;33m[\u001b[0m\u001b[1;34m\"Experience\"\u001b[0m\u001b[1;33m]\u001b[0m\u001b[1;33m.\u001b[0m\u001b[0munique\u001b[0m\u001b[1;33m(\u001b[0m\u001b[1;33m)\u001b[0m\u001b[1;33m)\u001b[0m\u001b[1;33m\u001b[0m\u001b[1;33m\u001b[0m\u001b[0m\n\u001b[0;32m      4\u001b[0m \u001b[0mdf\u001b[0m\u001b[1;33m[\u001b[0m\u001b[1;34m\"Experience\"\u001b[0m\u001b[1;33m]\u001b[0m \u001b[1;33m=\u001b[0m \u001b[0mabs\u001b[0m\u001b[1;33m(\u001b[0m\u001b[0mdf\u001b[0m\u001b[1;33m[\u001b[0m\u001b[1;34m\"Experience\"\u001b[0m\u001b[1;33m]\u001b[0m\u001b[1;33m)\u001b[0m\u001b[1;33m\u001b[0m\u001b[1;33m\u001b[0m\u001b[0m\n",
      "\u001b[1;32m~\\anaconda3\\lib\\site-packages\\pandas\\util\\_decorators.py\u001b[0m in \u001b[0;36mwrapper\u001b[1;34m(*args, **kwargs)\u001b[0m\n\u001b[0;32m    309\u001b[0m                     \u001b[0mstacklevel\u001b[0m\u001b[1;33m=\u001b[0m\u001b[0mstacklevel\u001b[0m\u001b[1;33m,\u001b[0m\u001b[1;33m\u001b[0m\u001b[1;33m\u001b[0m\u001b[0m\n\u001b[0;32m    310\u001b[0m                 )\n\u001b[1;32m--> 311\u001b[1;33m             \u001b[1;32mreturn\u001b[0m \u001b[0mfunc\u001b[0m\u001b[1;33m(\u001b[0m\u001b[1;33m*\u001b[0m\u001b[0margs\u001b[0m\u001b[1;33m,\u001b[0m \u001b[1;33m**\u001b[0m\u001b[0mkwargs\u001b[0m\u001b[1;33m)\u001b[0m\u001b[1;33m\u001b[0m\u001b[1;33m\u001b[0m\u001b[0m\n\u001b[0m\u001b[0;32m    312\u001b[0m \u001b[1;33m\u001b[0m\u001b[0m\n\u001b[0;32m    313\u001b[0m         \u001b[1;32mreturn\u001b[0m \u001b[0mwrapper\u001b[0m\u001b[1;33m\u001b[0m\u001b[1;33m\u001b[0m\u001b[0m\n",
      "\u001b[1;32m~\\anaconda3\\lib\\site-packages\\pandas\\core\\frame.py\u001b[0m in \u001b[0;36mdrop\u001b[1;34m(self, labels, axis, index, columns, level, inplace, errors)\u001b[0m\n\u001b[0;32m   4955\u001b[0m                 \u001b[0mweight\u001b[0m  \u001b[1;36m1.0\u001b[0m     \u001b[1;36m0.8\u001b[0m\u001b[1;33m\u001b[0m\u001b[1;33m\u001b[0m\u001b[0m\n\u001b[0;32m   4956\u001b[0m         \"\"\"\n\u001b[1;32m-> 4957\u001b[1;33m         return super().drop(\n\u001b[0m\u001b[0;32m   4958\u001b[0m             \u001b[0mlabels\u001b[0m\u001b[1;33m=\u001b[0m\u001b[0mlabels\u001b[0m\u001b[1;33m,\u001b[0m\u001b[1;33m\u001b[0m\u001b[1;33m\u001b[0m\u001b[0m\n\u001b[0;32m   4959\u001b[0m             \u001b[0maxis\u001b[0m\u001b[1;33m=\u001b[0m\u001b[0maxis\u001b[0m\u001b[1;33m,\u001b[0m\u001b[1;33m\u001b[0m\u001b[1;33m\u001b[0m\u001b[0m\n",
      "\u001b[1;32m~\\anaconda3\\lib\\site-packages\\pandas\\core\\generic.py\u001b[0m in \u001b[0;36mdrop\u001b[1;34m(self, labels, axis, index, columns, level, inplace, errors)\u001b[0m\n\u001b[0;32m   4265\u001b[0m         \u001b[1;32mfor\u001b[0m \u001b[0maxis\u001b[0m\u001b[1;33m,\u001b[0m \u001b[0mlabels\u001b[0m \u001b[1;32min\u001b[0m \u001b[0maxes\u001b[0m\u001b[1;33m.\u001b[0m\u001b[0mitems\u001b[0m\u001b[1;33m(\u001b[0m\u001b[1;33m)\u001b[0m\u001b[1;33m:\u001b[0m\u001b[1;33m\u001b[0m\u001b[1;33m\u001b[0m\u001b[0m\n\u001b[0;32m   4266\u001b[0m             \u001b[1;32mif\u001b[0m \u001b[0mlabels\u001b[0m \u001b[1;32mis\u001b[0m \u001b[1;32mnot\u001b[0m \u001b[1;32mNone\u001b[0m\u001b[1;33m:\u001b[0m\u001b[1;33m\u001b[0m\u001b[1;33m\u001b[0m\u001b[0m\n\u001b[1;32m-> 4267\u001b[1;33m                 \u001b[0mobj\u001b[0m \u001b[1;33m=\u001b[0m \u001b[0mobj\u001b[0m\u001b[1;33m.\u001b[0m\u001b[0m_drop_axis\u001b[0m\u001b[1;33m(\u001b[0m\u001b[0mlabels\u001b[0m\u001b[1;33m,\u001b[0m \u001b[0maxis\u001b[0m\u001b[1;33m,\u001b[0m \u001b[0mlevel\u001b[0m\u001b[1;33m=\u001b[0m\u001b[0mlevel\u001b[0m\u001b[1;33m,\u001b[0m \u001b[0merrors\u001b[0m\u001b[1;33m=\u001b[0m\u001b[0merrors\u001b[0m\u001b[1;33m)\u001b[0m\u001b[1;33m\u001b[0m\u001b[1;33m\u001b[0m\u001b[0m\n\u001b[0m\u001b[0;32m   4268\u001b[0m \u001b[1;33m\u001b[0m\u001b[0m\n\u001b[0;32m   4269\u001b[0m         \u001b[1;32mif\u001b[0m \u001b[0minplace\u001b[0m\u001b[1;33m:\u001b[0m\u001b[1;33m\u001b[0m\u001b[1;33m\u001b[0m\u001b[0m\n",
      "\u001b[1;32m~\\anaconda3\\lib\\site-packages\\pandas\\core\\generic.py\u001b[0m in \u001b[0;36m_drop_axis\u001b[1;34m(self, labels, axis, level, errors, consolidate, only_slice)\u001b[0m\n\u001b[0;32m   4309\u001b[0m                 \u001b[0mnew_axis\u001b[0m \u001b[1;33m=\u001b[0m \u001b[0maxis\u001b[0m\u001b[1;33m.\u001b[0m\u001b[0mdrop\u001b[0m\u001b[1;33m(\u001b[0m\u001b[0mlabels\u001b[0m\u001b[1;33m,\u001b[0m \u001b[0mlevel\u001b[0m\u001b[1;33m=\u001b[0m\u001b[0mlevel\u001b[0m\u001b[1;33m,\u001b[0m \u001b[0merrors\u001b[0m\u001b[1;33m=\u001b[0m\u001b[0merrors\u001b[0m\u001b[1;33m)\u001b[0m\u001b[1;33m\u001b[0m\u001b[1;33m\u001b[0m\u001b[0m\n\u001b[0;32m   4310\u001b[0m             \u001b[1;32melse\u001b[0m\u001b[1;33m:\u001b[0m\u001b[1;33m\u001b[0m\u001b[1;33m\u001b[0m\u001b[0m\n\u001b[1;32m-> 4311\u001b[1;33m                 \u001b[0mnew_axis\u001b[0m \u001b[1;33m=\u001b[0m \u001b[0maxis\u001b[0m\u001b[1;33m.\u001b[0m\u001b[0mdrop\u001b[0m\u001b[1;33m(\u001b[0m\u001b[0mlabels\u001b[0m\u001b[1;33m,\u001b[0m \u001b[0merrors\u001b[0m\u001b[1;33m=\u001b[0m\u001b[0merrors\u001b[0m\u001b[1;33m)\u001b[0m\u001b[1;33m\u001b[0m\u001b[1;33m\u001b[0m\u001b[0m\n\u001b[0m\u001b[0;32m   4312\u001b[0m             \u001b[0mindexer\u001b[0m \u001b[1;33m=\u001b[0m \u001b[0maxis\u001b[0m\u001b[1;33m.\u001b[0m\u001b[0mget_indexer\u001b[0m\u001b[1;33m(\u001b[0m\u001b[0mnew_axis\u001b[0m\u001b[1;33m)\u001b[0m\u001b[1;33m\u001b[0m\u001b[1;33m\u001b[0m\u001b[0m\n\u001b[0;32m   4313\u001b[0m \u001b[1;33m\u001b[0m\u001b[0m\n",
      "\u001b[1;32m~\\anaconda3\\lib\\site-packages\\pandas\\core\\indexes\\base.py\u001b[0m in \u001b[0;36mdrop\u001b[1;34m(self, labels, errors)\u001b[0m\n\u001b[0;32m   6659\u001b[0m         \u001b[1;32mif\u001b[0m \u001b[0mmask\u001b[0m\u001b[1;33m.\u001b[0m\u001b[0many\u001b[0m\u001b[1;33m(\u001b[0m\u001b[1;33m)\u001b[0m\u001b[1;33m:\u001b[0m\u001b[1;33m\u001b[0m\u001b[1;33m\u001b[0m\u001b[0m\n\u001b[0;32m   6660\u001b[0m             \u001b[1;32mif\u001b[0m \u001b[0merrors\u001b[0m \u001b[1;33m!=\u001b[0m \u001b[1;34m\"ignore\"\u001b[0m\u001b[1;33m:\u001b[0m\u001b[1;33m\u001b[0m\u001b[1;33m\u001b[0m\u001b[0m\n\u001b[1;32m-> 6661\u001b[1;33m                 \u001b[1;32mraise\u001b[0m \u001b[0mKeyError\u001b[0m\u001b[1;33m(\u001b[0m\u001b[1;34mf\"{list(labels[mask])} not found in axis\"\u001b[0m\u001b[1;33m)\u001b[0m\u001b[1;33m\u001b[0m\u001b[1;33m\u001b[0m\u001b[0m\n\u001b[0m\u001b[0;32m   6662\u001b[0m             \u001b[0mindexer\u001b[0m \u001b[1;33m=\u001b[0m \u001b[0mindexer\u001b[0m\u001b[1;33m[\u001b[0m\u001b[1;33m~\u001b[0m\u001b[0mmask\u001b[0m\u001b[1;33m]\u001b[0m\u001b[1;33m\u001b[0m\u001b[1;33m\u001b[0m\u001b[0m\n\u001b[0;32m   6663\u001b[0m         \u001b[1;32mreturn\u001b[0m \u001b[0mself\u001b[0m\u001b[1;33m.\u001b[0m\u001b[0mdelete\u001b[0m\u001b[1;33m(\u001b[0m\u001b[0mindexer\u001b[0m\u001b[1;33m)\u001b[0m\u001b[1;33m\u001b[0m\u001b[1;33m\u001b[0m\u001b[0m\n",
      "\u001b[1;31mKeyError\u001b[0m: \"['ID', 'ZIP Code'] not found in axis\""
     ]
    }
   ],
   "source": [
    "# Deleting Columns which are not necessary\n",
    "df.drop([\"ID\", \"ZIP Code\"],axis=1,inplace=True)\n",
    "print(df[\"Experience\"].unique())\n",
    "df[\"Experience\"] = abs(df[\"Experience\"])"
   ]
  },
  {
   "cell_type": "code",
   "execution_count": 7,
   "id": "10481a9e",
   "metadata": {},
   "outputs": [
    {
     "data": {
      "text/plain": [
       "Index(['Age', 'Experience', 'Income', 'Family', 'CCAvg', 'Education',\n",
       "       'Mortgage', 'Personal Loan', 'Securities Account', 'CD Account',\n",
       "       'Online', 'CreditCard'],\n",
       "      dtype='object')"
      ]
     },
     "execution_count": 7,
     "metadata": {},
     "output_type": "execute_result"
    }
   ],
   "source": [
    "df.columns"
   ]
  },
  {
   "cell_type": "code",
   "execution_count": 8,
   "id": "c0df4086",
   "metadata": {},
   "outputs": [],
   "source": [
    "df = df[['Age', 'Experience', 'Income', 'Family', 'CCAvg','Education', 'Mortgage', 'Securities Account','CD Account', 'Online', 'CreditCard', 'Personal Loan']]"
   ]
  },
  {
   "cell_type": "code",
   "execution_count": 9,
   "id": "0b115140",
   "metadata": {},
   "outputs": [],
   "source": [
    "X = df.iloc[:,:-1].values\n",
    "Y = df.iloc[:,-1].values"
   ]
  },
  {
   "cell_type": "markdown",
   "id": "93f5a7aa",
   "metadata": {},
   "source": [
    "### Spliting the data"
   ]
  },
  {
   "cell_type": "code",
   "execution_count": 10,
   "id": "bcd06381",
   "metadata": {},
   "outputs": [],
   "source": [
    "x,y = X,Y"
   ]
  },
  {
   "cell_type": "code",
   "execution_count": 25,
   "id": "1d8cad0f",
   "metadata": {},
   "outputs": [],
   "source": [
    "from sklearn.model_selection import train_test_split\n",
    "\n",
    "x_train,x_test,y_train,y_test = train_test_split(x,y,test_size=0.25,random_state=0)"
   ]
  },
  {
   "cell_type": "code",
   "execution_count": 26,
   "id": "1b7bd982",
   "metadata": {},
   "outputs": [],
   "source": [
    "from sklearn.preprocessing import StandardScaler\n",
    "\n",
    "sc = StandardScaler()\n",
    "x_train = sc.fit_transform(x_train)\n",
    "x_test = sc.transform(x_test)"
   ]
  },
  {
   "cell_type": "code",
   "execution_count": 27,
   "id": "7433f158",
   "metadata": {},
   "outputs": [
    {
     "data": {
      "text/plain": [
       "((3750, 11), (3750,))"
      ]
     },
     "execution_count": 27,
     "metadata": {},
     "output_type": "execute_result"
    }
   ],
   "source": [
    "x_train.shape, y_train.shape"
   ]
  },
  {
   "cell_type": "markdown",
   "id": "c277b86d",
   "metadata": {},
   "source": [
    "# PyTorch "
   ]
  },
  {
   "cell_type": "code",
   "execution_count": 28,
   "id": "d1f1c3f1",
   "metadata": {},
   "outputs": [],
   "source": [
    "import torch\n",
    "from torch.utils.data import DataLoader, TensorDataset"
   ]
  },
  {
   "cell_type": "code",
   "execution_count": 29,
   "id": "5dd4e554",
   "metadata": {},
   "outputs": [],
   "source": [
    "BATCH_SIZE = 32\n",
    "LEARNING_RATE = 0.003\n",
    "EPOCH = 50"
   ]
  },
  {
   "cell_type": "code",
   "execution_count": 30,
   "id": "06861674",
   "metadata": {},
   "outputs": [
    {
     "data": {
      "text/plain": [
       "'cpu'"
      ]
     },
     "execution_count": 30,
     "metadata": {},
     "output_type": "execute_result"
    }
   ],
   "source": [
    "device = \"cuda\" if torch.cuda.is_available() else \"cpu\"\n",
    "device"
   ]
  },
  {
   "cell_type": "code",
   "execution_count": 31,
   "id": "53b5e253",
   "metadata": {},
   "outputs": [],
   "source": [
    "train_x = torch.from_numpy(x_train).to(torch.float32)\n",
    "train_y = torch.from_numpy(y_train).to(torch.float32)"
   ]
  },
  {
   "cell_type": "code",
   "execution_count": 32,
   "id": "a816e476",
   "metadata": {},
   "outputs": [
    {
     "data": {
      "text/plain": [
       "(torch.Size([3750, 11]), torch.Size([3750]))"
      ]
     },
     "execution_count": 32,
     "metadata": {},
     "output_type": "execute_result"
    }
   ],
   "source": [
    "train_x.shape, train_y.shape"
   ]
  },
  {
   "cell_type": "code",
   "execution_count": 33,
   "id": "83535d93",
   "metadata": {},
   "outputs": [],
   "source": [
    "data = TensorDataset(train_x,train_y)\n",
    "data = DataLoader(data,batch_size=BATCH_SIZE,shuffle=True)"
   ]
  },
  {
   "cell_type": "markdown",
   "id": "7f359adb",
   "metadata": {},
   "source": [
    "## model"
   ]
  },
  {
   "cell_type": "code",
   "execution_count": 34,
   "id": "d4d0b641",
   "metadata": {},
   "outputs": [],
   "source": [
    "class Model(torch.nn.Module):\n",
    "    \n",
    "    def __init__(self):\n",
    "        super(Model,self).__init__()\n",
    "        \n",
    "        self.layer1 = torch.nn.Linear(11,16)\n",
    "        self.layer2 = torch.nn.Linear(16,1)\n",
    "        self.sigmoid = torch.nn.Sigmoid()\n",
    "        self.relu = torch.nn.ReLU()\n",
    "        \n",
    "    def forward(self, x):\n",
    "        x = self.layer1(x)\n",
    "        x = self.relu(x)\n",
    "        x = self.layer2(x)\n",
    "        x = self.sigmoid(x)\n",
    "        return x"
   ]
  },
  {
   "cell_type": "code",
   "execution_count": 35,
   "id": "4e1e2959",
   "metadata": {},
   "outputs": [
    {
     "name": "stdout",
     "output_type": "stream",
     "text": [
      "Model(\n",
      "  (layer1): Linear(in_features=11, out_features=16, bias=True)\n",
      "  (layer2): Linear(in_features=16, out_features=1, bias=True)\n",
      "  (sigmoid): Sigmoid()\n",
      "  (relu): ReLU()\n",
      ")\n"
     ]
    }
   ],
   "source": [
    "model = Model()\n",
    "# model.to(device)\n",
    "print(model)"
   ]
  },
  {
   "cell_type": "markdown",
   "id": "0692462e",
   "metadata": {},
   "source": [
    "##  Loss function and Optimizer"
   ]
  },
  {
   "cell_type": "code",
   "execution_count": 36,
   "id": "11760630",
   "metadata": {},
   "outputs": [],
   "source": [
    "loss_function = torch.nn.BCELoss()\n",
    "optimizer = torch.optim.Adam(model.parameters(),lr=LEARNING_RATE)"
   ]
  },
  {
   "cell_type": "markdown",
   "id": "7b84670b",
   "metadata": {},
   "source": [
    "## Training"
   ]
  },
  {
   "cell_type": "code",
   "execution_count": 37,
   "id": "33818458",
   "metadata": {
    "scrolled": false
   },
   "outputs": [
    {
     "name": "stdout",
     "output_type": "stream",
     "text": [
      "10 0.06484903400888045 0.9781333333333333\n",
      "20 0.05354246261914571 0.9810666666666666\n",
      "30 0.0468826295375824 0.9837333333333333\n",
      "40 0.042574787889110545 0.9861333333333333\n",
      "50 0.040005037210385 0.9872\n"
     ]
    }
   ],
   "source": [
    "training_loss = [0]*EPOCH\n",
    "training_accuracy = [0]*EPOCH\n",
    "\n",
    "for i in range(1,EPOCH+1):\n",
    "    epoch_loss = 0\n",
    "    accuracy = 0\n",
    "    for x_batch,y_batch in data:\n",
    "        # x_batch,y_batch = x_batch.to(device),y_batch.to(device)\n",
    "        optimizer.zero_grad()\n",
    "        \n",
    "        y_pred = model(x_batch)\n",
    "        \n",
    "        loss = loss_function(y_pred,y_batch.unsqueeze(1))\n",
    "        loss.backward()\n",
    "        \n",
    "        optimizer.step()\n",
    "        epoch_loss += loss.item() * len(x_batch)\n",
    "        cnt = (torch.where(y_pred>=0.5, 1, 0) == y_batch.unsqueeze(1)).sum().float()\n",
    "        accuracy += cnt.item()\n",
    "    if(i%10 == 0):\n",
    "        print(i,epoch_loss/len(data.dataset),(accuracy)/len(data.dataset))"
   ]
  },
  {
   "cell_type": "markdown",
   "id": "b5e416a6",
   "metadata": {},
   "source": [
    "## Testing "
   ]
  },
  {
   "cell_type": "code",
   "execution_count": 38,
   "id": "136df251",
   "metadata": {},
   "outputs": [],
   "source": [
    "test_x = torch.from_numpy(x_test).to(torch.float32)\n",
    "test_y = torch.from_numpy(y_test).to(torch.float32)"
   ]
  },
  {
   "cell_type": "code",
   "execution_count": 39,
   "id": "a0cc2232",
   "metadata": {},
   "outputs": [],
   "source": [
    "test = TensorDataset(test_x,test_y)\n",
    "test = DataLoader(test,batch_size=1)"
   ]
  },
  {
   "cell_type": "code",
   "execution_count": 40,
   "id": "563ce588",
   "metadata": {},
   "outputs": [
    {
     "name": "stdout",
     "output_type": "stream",
     "text": [
      "0.9832\n"
     ]
    }
   ],
   "source": [
    "y_pred = model(test_x)\n",
    "y_pred = torch.where(y_pred>=0.5, 1, 0).flatten()\n",
    "accuracy = (y_pred == test_y).sum().float().item() / len(test.dataset)\n",
    "print(accuracy)"
   ]
  },
  {
   "cell_type": "code",
   "execution_count": 41,
   "id": "2f3986e0",
   "metadata": {},
   "outputs": [
    {
     "name": "stdout",
     "output_type": "stream",
     "text": [
      "              precision    recall  f1-score   support\n",
      "\n",
      "           0       1.00      0.98      0.99      1157\n",
      "           1       0.83      0.97      0.90        93\n",
      "\n",
      "    accuracy                           0.98      1250\n",
      "   macro avg       0.92      0.98      0.94      1250\n",
      "weighted avg       0.99      0.98      0.98      1250\n",
      "\n"
     ]
    }
   ],
   "source": [
    "from sklearn.metrics import classification_report\n",
    "py_report=classification_report(y_pred,test_y)\n",
    "print(py_report)"
   ]
  },
  {
   "cell_type": "markdown",
   "id": "10c88834",
   "metadata": {},
   "source": [
    "## Genetic Algorithm"
   ]
  },
  {
   "cell_type": "code",
   "execution_count": 42,
   "id": "cf396cd9",
   "metadata": {},
   "outputs": [],
   "source": [
    "BATCH_SIZE = 1"
   ]
  },
  {
   "cell_type": "code",
   "execution_count": 43,
   "id": "4347dc2d",
   "metadata": {},
   "outputs": [],
   "source": [
    "data = TensorDataset(train_x,train_y)\n",
    "data = DataLoader(data,batch_size=BATCH_SIZE,shuffle=True)"
   ]
  },
  {
   "cell_type": "code",
   "execution_count": 44,
   "id": "4a367519",
   "metadata": {},
   "outputs": [],
   "source": [
    "# Accuracy \n",
    "def fitness_function(model):\n",
    "    \n",
    "    y_pred = model(train_x)\n",
    "    y_pred = torch.where(y_pred>=0.5, 1, 0).flatten()\n",
    "    accuracy = (y_pred == train_y).sum().float().item() / len(data.dataset)\n",
    "    \n",
    "    return accuracy"
   ]
  },
  {
   "cell_type": "code",
   "execution_count": 45,
   "id": "34a6792f",
   "metadata": {},
   "outputs": [],
   "source": [
    "# Crossover and Mutation\n",
    "def crossover_mutation(model1,model2):\n",
    "    # Shape of the weights and biases\n",
    "    shp = [i.numpy().shape for i in model1.parameters()]\n",
    "    sz = [i[0]*i[1] if len(i) == 2 else i[0] for i in shp]\n",
    "    \n",
    "    # Flattening the parameters for cross over\n",
    "    matrix_1 = np.concatenate([i.numpy().flatten() for i in model1.parameters()])\n",
    "    matrix_2 = np.concatenate([i.numpy().flatten() for i in model2.parameters()])\n",
    "    \n",
    "    # Crossover\n",
    "    start = len(matrix_1)//2 - 10\n",
    "    end = len(matrix_1)//2 + 10\n",
    "    mid_value = random.randrange(start,end)\n",
    "    \n",
    "    main_child_1 = np.concatenate([matrix_1[:mid_value], matrix_2[mid_value:]])\n",
    "    main_child_2 = np.concatenate([matrix_2[:mid_value], matrix_1[mid_value:]])\n",
    "    \n",
    "    # Child 1 Mutation\n",
    "    random_start = random.randrange(0,len(matrix_1)//2)\n",
    "    random_end = random.randrange(random_start,len(matrix_1))\n",
    "    \n",
    "    child_1_mutate = main_child_1.copy()\n",
    "    child_1_mutate[random_start:random_end] = child_1_mutate[random_start:random_end][::-1]\n",
    "    \n",
    "    # Child 2 Mutation\n",
    "    random_start = random.randrange(0,len(matrix_1)//2)\n",
    "    random_end = random.randrange(random_start,len(matrix_1))\n",
    "    \n",
    "    child_2_mutate = main_child_2.copy()\n",
    "    child_2_mutate[random_start:random_end] = child_2_mutate[random_start:random_end][::-1]\n",
    "    \n",
    "    # Converting the array to parameters\n",
    "    children = [main_child_1, main_child_2, child_1_mutate, child_2_mutate]\n",
    "    output = list()\n",
    "    \n",
    "    for child in children:\n",
    "        param = list()\n",
    "        cum_sum = 0\n",
    "        for i in range(len(sz)):\n",
    "            array = child[cum_sum : cum_sum + sz[i]]\n",
    "            array = array.reshape(shp[i])\n",
    "            cum_sum += sz[i]\n",
    "            param.append(array)\n",
    "        param = np.array(param, dtype=\"object\")\n",
    "        output.append(param)\n",
    "    \n",
    "    output = np.array(output, dtype=\"object\")\n",
    "    return output"
   ]
  },
  {
   "cell_type": "code",
   "execution_count": 46,
   "id": "b946168a",
   "metadata": {},
   "outputs": [],
   "source": [
    "# Training \n",
    "\n",
    "torch.manual_seed(69)\n",
    "torch.set_grad_enabled(False)\n",
    "population_size = 10\n",
    "\n",
    "def train(no):\n",
    "    # Initial Population\n",
    "    population = np.array([Model() for i in range(population_size)])\n",
    "    \n",
    "    best_model = None\n",
    "    \n",
    "    for loop in range(no):\n",
    "        # Sort population based up on fitness function\n",
    "        population = population[np.argsort([fitness_function(model) for model in population])]\n",
    "        \n",
    "        # Printing Max Accuracy\n",
    "        best_model = population[-1]\n",
    "        if(loop%10 == 0):\n",
    "            print(\"Gen\", loop, \" :\", fitness_function(population[-1]))\n",
    "        \n",
    "        # Parent Selection\n",
    "        parent_max_1 = population[-1]\n",
    "        parent_max_2 = population[-2]\n",
    "        parent_max_3 = population[-3]\n",
    "        parent_max_4 = population[-4] \n",
    "        parent_1 = population[0]\n",
    "        parent_2 = population[1]\n",
    "        \n",
    "        # Crossover\n",
    "        output_1 = crossover_mutation(parent_max_1, parent_max_3)\n",
    "        output_2 = crossover_mutation(parent_max_2, parent_max_4)\n",
    "        output = np.concatenate([output_1, output_2])\n",
    "        \n",
    "        # New population\n",
    "        new_population = np.array([Model() for i in range(len(output))])\n",
    "        for count, model in enumerate(new_population, 0):\n",
    "            for index, param in enumerate(model.parameters(), 0):\n",
    "                param.data = (torch.tensor(output[count][index]))\n",
    "        \n",
    "        # Add Poor performing parent to the new population\n",
    "        new_population = np.concatenate([new_population, [parent_1, parent_2]])\n",
    "        \n",
    "        # New population becomes your next population\n",
    "        population = new_population.copy()\n",
    "        \n",
    "    return best_model"
   ]
  },
  {
   "cell_type": "code",
   "execution_count": 47,
   "id": "47f73112",
   "metadata": {},
   "outputs": [
    {
     "name": "stdout",
     "output_type": "stream",
     "text": [
      "Gen 0  : 0.8197333333333333\n",
      "Gen 10  : 0.9008\n",
      "Gen 20  : 0.9053333333333333\n",
      "Gen 30  : 0.9146666666666666\n",
      "Gen 40  : 0.9162666666666667\n",
      "Gen 50  : 0.9170666666666667\n",
      "Gen 60  : 0.9205333333333333\n",
      "Gen 70  : 0.9226666666666666\n",
      "Gen 80  : 0.9288\n",
      "Gen 90  : 0.9290666666666667\n"
     ]
    }
   ],
   "source": [
    "best = train(100)"
   ]
  },
  {
   "cell_type": "markdown",
   "id": "71a3cbf4",
   "metadata": {},
   "source": [
    "## Testing"
   ]
  },
  {
   "cell_type": "code",
   "execution_count": 48,
   "id": "49708427",
   "metadata": {},
   "outputs": [
    {
     "name": "stdout",
     "output_type": "stream",
     "text": [
      "              precision    recall  f1-score   support\n",
      "\n",
      "           0       0.99      0.94      0.97      1203\n",
      "           1       0.38      0.87      0.53        47\n",
      "\n",
      "    accuracy                           0.94      1250\n",
      "   macro avg       0.69      0.91      0.75      1250\n",
      "weighted avg       0.97      0.94      0.95      1250\n",
      "\n"
     ]
    }
   ],
   "source": [
    "y_pred = best(test_x)\n",
    "y_pred = torch.where(y_pred>=0.5, 1, 0).flatten()\n",
    "ga_report=classification_report(y_pred,test_y)\n",
    "print(ga_report)"
   ]
  },
  {
   "cell_type": "markdown",
   "id": "2eb00114",
   "metadata": {},
   "source": [
    "## Particle Swarm optimization"
   ]
  },
  {
   "cell_type": "code",
   "execution_count": 49,
   "id": "5b64ff62",
   "metadata": {},
   "outputs": [
    {
     "name": "stdout",
     "output_type": "stream",
     "text": [
      "Dim :  209\n",
      "Layers Shape :  [(16, 11), (16,), (1, 16), (1,)]\n",
      "Layers Size :  [176, 16, 16, 1]\n"
     ]
    }
   ],
   "source": [
    "from pyswarms.single import GlobalBestPSO\n",
    "torch.manual_seed(420)\n",
    "torch.set_grad_enabled(False)\n",
    "\n",
    "model = Model()\n",
    "param = np.concatenate([i.numpy().flatten() for i in model.parameters()])\n",
    "shape = [i.numpy().shape for i in model.parameters()]\n",
    "size = [i[0]*i[1] if len(i) == 2 else i[0] for i in shape]\n",
    "\n",
    "print(\"Dim : \", len(param))\n",
    "print(\"Layers Shape : \", shape)\n",
    "print(\"Layers Size : \", size)"
   ]
  },
  {
   "cell_type": "code",
   "execution_count": 50,
   "id": "e94177fa",
   "metadata": {},
   "outputs": [],
   "source": [
    "def objective_function(particle,shape=shape,size=size):\n",
    "    accuracy = []\n",
    "    output = []\n",
    "    \n",
    "    # Reshape the vector to weights and biases dimention\n",
    "    for par in particle:\n",
    "        param = list()\n",
    "        cum_sum = 0\n",
    "        for i in range(len(size)):\n",
    "            array = par[cum_sum : cum_sum + size[i]]\n",
    "            array = array.reshape(shape[i])\n",
    "            cum_sum += size[i]\n",
    "            param.append(array)\n",
    "        param = np.array(param, dtype=\"object\")\n",
    "        output.append(param)\n",
    "    \n",
    "    for i in range(len(output)):\n",
    "        # Copy Weights and Biases\n",
    "        model = Model()\n",
    "        for idx,wei in enumerate(model.parameters()):\n",
    "            wei.data = (torch.tensor(output[i][idx])).to(torch.float32)\n",
    "        \n",
    "        # Calculate Accuracy\n",
    "        y_pred = model(train_x)\n",
    "        y_pred = torch.where(y_pred>=0.5, 1, 0).flatten()\n",
    "        acc = (y_pred == train_y).sum().float().item() / len(data.dataset)\n",
    "        accuracy.append(1 - acc) # Optimization function aims to reduce the cost so (1 - accuracy)\n",
    "        \n",
    "    return accuracy"
   ]
  },
  {
   "cell_type": "code",
   "execution_count": 51,
   "id": "fc01b8c4",
   "metadata": {},
   "outputs": [],
   "source": [
    "# Tunable Parameters\n",
    "\n",
    "options = {'c1': 0.6, 'c2': 0.3, 'w': 0.1}\n",
    "dim = len(param)\n",
    "x_max = 1.0 * np.ones(dim)\n",
    "x_min = -1.0 * x_max\n",
    "bounds = (x_min, x_max)\n",
    "\n",
    "pso = GlobalBestPSO(n_particles=500, dimensions=209, options=options, bounds=bounds)"
   ]
  },
  {
   "cell_type": "code",
   "execution_count": 52,
   "id": "5a2b9fdb",
   "metadata": {},
   "outputs": [
    {
     "name": "stderr",
     "output_type": "stream",
     "text": [
      "2023-04-05 20:00:08,627 - pyswarms.single.global_best - INFO - Optimize for 50 iters with {'c1': 0.6, 'c2': 0.3, 'w': 0.1}\n",
      "pyswarms.single.global_best: 100%|██████████████████████████████████████████████████████████████|50/50, best_cost=0.048\n",
      "2023-04-05 20:00:53,839 - pyswarms.single.global_best - INFO - Optimization finished | best cost: 0.04800000000000004, best pos: [ 0.37099155  0.42134469 -0.14054767  0.05483468  0.11749422 -0.24293899\n",
      "  0.37383654 -0.12252051  0.15774228  0.06722455  0.04060722  0.18180604\n",
      "  0.12209702  0.07868055 -0.29191377  0.01427306  0.19699487 -0.21392934\n",
      " -0.13676235 -0.00565993  0.30456246  0.47240958  0.42963469  0.01576371\n",
      " -0.3500184  -0.42604539  0.12080956 -0.13340314  0.37319376  0.05860598\n",
      " -0.03733801  0.48075862 -0.21245809  0.01855826 -0.27609775 -0.34052139\n",
      "  0.27832181 -0.46087401  0.15217016 -0.33636875  0.28740664 -0.23673198\n",
      " -0.08078382  0.07350716  0.20945096 -0.00784266  0.07482128 -0.04333414\n",
      " -0.05196728  0.23597283 -0.0412794   0.0861349   0.47138192 -0.03954468\n",
      " -0.05093596 -0.21772175 -0.22869558 -0.29708731 -0.26234761  0.44501789\n",
      "  0.23331662  0.28709499 -0.18325341 -0.09582766 -0.43436621 -0.3566977\n",
      "  0.27110844 -0.22567196 -0.26926098 -0.0774427   0.33093119  0.13703306\n",
      "  0.37411791  0.01019416 -0.19158732  0.30519643 -0.06640732 -0.25344034\n",
      "  0.11454424 -0.24941766 -0.02329074 -0.13349981  0.13730266 -0.06691113\n",
      "  0.40833682  0.08113684  0.1425484   0.10362066  0.10713391 -0.30071888\n",
      " -0.03757655  0.57699762 -0.21637145 -0.02341778 -0.16743812 -0.35622464\n",
      " -0.18159611 -0.05629658  0.06003958  0.16303628 -0.41991623  0.11616261\n",
      " -0.19711366  0.17922412  0.00248138 -0.03355471 -0.22177996 -0.00317246\n",
      " -0.1423172  -0.09903953 -0.03326752 -0.26987661  0.08598022  0.39339088\n",
      "  0.35966111 -0.00680933  0.3574347  -0.20877491 -0.45685127 -0.02892976\n",
      " -0.19179525 -0.04084976 -0.40110478 -0.34287123 -0.24064332  0.08926301\n",
      "  0.19267255 -0.3766443   0.21749924 -0.04938895  0.040988   -0.17763059\n",
      "  0.32114348 -0.4840752   0.45092593  0.17676305  0.5004169   0.67916565\n",
      "  0.26262425  0.53005845  0.05995105  0.28075455 -0.20012661 -0.0426212\n",
      "  0.20562356 -0.2869901   0.15238475  0.07262197  0.25897507 -0.27416969\n",
      " -0.06354094 -0.32701125 -0.09113008  0.2097857   0.03107523 -0.43143782\n",
      " -0.21998978 -0.01316494  0.25130923  0.13298193 -0.32593116  0.45925841\n",
      " -0.05699728  0.1411715   0.09225336  0.29406214 -0.03658567 -0.49241275\n",
      " -0.57132733  0.08427211 -0.03925311  0.13757953 -0.00957735  0.08251302\n",
      "  0.00203809  0.38149669 -0.19175756 -0.01937382  0.5991861   0.553637\n",
      "  0.26301029  0.02794307 -0.08247053  0.28690223  0.39251782 -0.20830028\n",
      "  0.01310027  0.30932245 -0.25815815 -0.37308833  0.32224749 -0.16992166\n",
      "  0.08192057  0.03370857 -0.1861959  -0.33466839  0.09408245 -0.09082109\n",
      " -0.32118223 -0.15222055  0.24322133 -0.1571679  -0.01718347 -0.00356776\n",
      "  0.49965509 -0.25484381 -0.49973922  0.05547744 -0.21387298]\n"
     ]
    },
    {
     "name": "stdout",
     "output_type": "stream",
     "text": [
      "Accuracy :  0.952\n"
     ]
    }
   ],
   "source": [
    "best_cost, best_parameters = pso.optimize(objective_function, iters=50)\n",
    "print(\"Accuracy : \", 1 - best_cost)"
   ]
  },
  {
   "cell_type": "code",
   "execution_count": 53,
   "id": "6afe08a1",
   "metadata": {},
   "outputs": [
    {
     "name": "stdout",
     "output_type": "stream",
     "text": [
      "Accuracy :  0.952\n"
     ]
    }
   ],
   "source": [
    "# Converting the best vector to model\n",
    "\n",
    "result = []\n",
    "for par in [best_parameters]:\n",
    "    param = list()\n",
    "    cum_sum = 0\n",
    "    for i in range(len(size)):\n",
    "        array = par[cum_sum : cum_sum + size[i]]\n",
    "        array = array.reshape(shape[i])\n",
    "        cum_sum += size[i]\n",
    "        param.append(array)\n",
    "    param = np.array(param, dtype=\"object\")\n",
    "    result.append(param)\n",
    "\n",
    "best_model = Model()\n",
    "for idx,wei in enumerate(best_model.parameters()):\n",
    "    wei.data = (torch.tensor(result[0][idx])).to(torch.float32)\n",
    "\n",
    "# Calculate Accuracy\n",
    "y_pred = best_model(train_x)\n",
    "y_pred = torch.where(y_pred>=0.5, 1, 0).flatten()\n",
    "acc = (y_pred == train_y).sum().float().item() / len(data.dataset)\n",
    "print(\"Accuracy : \", acc)"
   ]
  },
  {
   "cell_type": "markdown",
   "id": "0b63e160",
   "metadata": {},
   "source": [
    "## Testing"
   ]
  },
  {
   "cell_type": "code",
   "execution_count": 54,
   "id": "f02b7b5c",
   "metadata": {},
   "outputs": [
    {
     "name": "stdout",
     "output_type": "stream",
     "text": [
      "              precision    recall  f1-score   support\n",
      "\n",
      "           0       0.98      0.96      0.97      1168\n",
      "           1       0.58      0.77      0.66        82\n",
      "\n",
      "    accuracy                           0.95      1250\n",
      "   macro avg       0.78      0.86      0.82      1250\n",
      "weighted avg       0.96      0.95      0.95      1250\n",
      "\n"
     ]
    }
   ],
   "source": [
    "y_pred = best_model(test_x)\n",
    "y_pred = torch.where(y_pred>=0.5, 1, 0).flatten()\n",
    "ps_report=classification_report(y_pred,test_y)\n",
    "print(ps_report)"
   ]
  },
  {
   "cell_type": "markdown",
   "id": "0801fcc8",
   "metadata": {},
   "source": [
    "## Ant Colony optimization"
   ]
  },
  {
   "cell_type": "code",
   "execution_count": 55,
   "id": "5940808f",
   "metadata": {},
   "outputs": [
    {
     "data": {
      "text/plain": [
       "<torch.autograd.grad_mode.set_grad_enabled at 0x25f003c41f0>"
      ]
     },
     "execution_count": 55,
     "metadata": {},
     "output_type": "execute_result"
    }
   ],
   "source": [
    "torch.manual_seed(6699)\n",
    "torch.set_grad_enabled(False)"
   ]
  },
  {
   "cell_type": "code",
   "execution_count": 56,
   "id": "0ce8f252",
   "metadata": {},
   "outputs": [
    {
     "name": "stdout",
     "output_type": "stream",
     "text": [
      "Dim :  209\n",
      "Layers Shape :  [(16, 11), (16,), (1, 16), (1,)]\n",
      "Layers Size :  [176, 16, 16, 1]\n"
     ]
    }
   ],
   "source": [
    "dummy = Model()\n",
    "dummy_param = np.concatenate([i.numpy().flatten() for i in dummy.parameters()])\n",
    "shape = [i.numpy().shape for i in model.parameters()]\n",
    "size = [i[0]*i[1] if len(i) == 2 else i[0] for i in shape]\n",
    "dim = len(dummy_param)\n",
    "\n",
    "print(\"Dim : \", dim)\n",
    "print(\"Layers Shape : \", shape)\n",
    "print(\"Layers Size : \", size)\n",
    "\n",
    "dummy = None\n",
    "dummy_param = None"
   ]
  },
  {
   "cell_type": "code",
   "execution_count": 57,
   "id": "a9c48f45",
   "metadata": {},
   "outputs": [],
   "source": [
    "# Helper Functions\n",
    "\n",
    "def model_to_vector(model):\n",
    "    vector = np.concatenate([i.numpy().flatten() for i in model.parameters()])\n",
    "    return vector\n",
    "    \n",
    "def vector_to_model(vector):\n",
    "    param = list()\n",
    "    cum_sum = 0\n",
    "    for i in range(len(size)):\n",
    "        array = vector[cum_sum : cum_sum + size[i]]\n",
    "        array = array.reshape(shape[i])\n",
    "        cum_sum += size[i]\n",
    "        param.append(array)\n",
    "    param = np.array(param, dtype=\"object\")\n",
    "    \n",
    "    dummy_model = Model()\n",
    "    for idx,wei in enumerate(dummy_model.parameters()):\n",
    "        wei.data = (torch.tensor(param[idx])).to(torch.float32)\n",
    "        \n",
    "    return dummy_model    \n",
    "\n",
    "def calc_accuracy(model):\n",
    "    y_pred = model(train_x)\n",
    "    y_pred = torch.where(y_pred>=0.5, 1, 0).flatten()\n",
    "    acc = (y_pred == train_y).sum().float().item() / len(data.dataset)\n",
    "    \n",
    "    return acc"
   ]
  },
  {
   "cell_type": "code",
   "execution_count": 58,
   "id": "1211355d",
   "metadata": {},
   "outputs": [],
   "source": [
    "ants = 10\n",
    "loops = 100\n",
    "evaporation_rate = 0.2\n",
    "influence_factor = 0.4"
   ]
  },
  {
   "cell_type": "code",
   "execution_count": 59,
   "id": "15e268d8",
   "metadata": {},
   "outputs": [
    {
     "name": "stdout",
     "output_type": "stream",
     "text": [
      "Iters 0 : 0.8978666666666667\n",
      "Iters 10 : 0.9008\n",
      "Iters 20 : 0.9008\n",
      "Iters 30 : 0.9008\n",
      "Iters 40 : 0.9008\n",
      "Iters 50 : 0.9008\n",
      "Iters 60 : 0.9008\n",
      "Iters 70 : 0.9008\n",
      "Iters 80 : 0.9008\n",
      "Iters 90 : 0.9008\n"
     ]
    }
   ],
   "source": [
    "pheromones = np.ones(dim)\n",
    "max_accuracy = 0\n",
    "fittest_vector = None\n",
    "\n",
    "for loop in range(loops):\n",
    "    # Generate Solution\n",
    "    paths = np.array([Model() for i in range(ants)])\n",
    "    accuracy = []\n",
    "    \n",
    "    for ant in range(ants):\n",
    "        # Flatten the weights and biases\n",
    "        vector = model_to_vector(paths[ant])\n",
    "        \n",
    "        # Multiply with pheromones \n",
    "        vector = vector * pheromones\n",
    "        \n",
    "        # Calculate Accuracy and Append to the list\n",
    "        model = vector_to_model(vector)\n",
    "        acc = calc_accuracy(model)\n",
    "        accuracy.append(acc)\n",
    "        \n",
    "        # Update the updated path\n",
    "        paths[ant] = model\n",
    "        \n",
    "        # Reset\n",
    "        model = None\n",
    "        acc = None\n",
    "        \n",
    "    # Select fittest path and accuracy\n",
    "    paths = paths[np.argsort(accuracy)]\n",
    "    \n",
    "    if accuracy[np.argmax(accuracy)] > max_accuracy:\n",
    "        max_accuracy = accuracy[np.argmax(accuracy)]\n",
    "        fittest_vector = model_to_vector(paths[-1])\n",
    "    \n",
    "    # Update pheromones\n",
    "    delta = 0\n",
    "    for ant in range(ants):\n",
    "        # Flatten the weights and biases\n",
    "        vector = model_to_vector(paths[ant])\n",
    "        \n",
    "        # Calculate delta\n",
    "        delta += (vector - fittest_vector)*influence_factor\n",
    "        \n",
    "    pheromones = (1-pheromones)*evaporation_rate + delta\n",
    "    \n",
    "    if loop%10 == 0:\n",
    "        print(\"Iters {} :\".format(loop), calc_accuracy(paths[-1]))"
   ]
  },
  {
   "cell_type": "markdown",
   "id": "062fd946",
   "metadata": {},
   "source": [
    "## Testing"
   ]
  },
  {
   "cell_type": "code",
   "execution_count": 60,
   "id": "2f9552e3",
   "metadata": {},
   "outputs": [
    {
     "ename": "NameError",
     "evalue": "name 'ac' is not defined",
     "output_type": "error",
     "traceback": [
      "\u001b[1;31m---------------------------------------------------------------------------\u001b[0m",
      "\u001b[1;31mNameError\u001b[0m                                 Traceback (most recent call last)",
      "\u001b[1;32m~\\AppData\\Local\\Temp\\ipykernel_9236\\3716295381.py\u001b[0m in \u001b[0;36m<module>\u001b[1;34m\u001b[0m\n\u001b[0;32m      1\u001b[0m \u001b[0my_pred\u001b[0m \u001b[1;33m=\u001b[0m \u001b[0mbest_model\u001b[0m\u001b[1;33m(\u001b[0m\u001b[0mtest_x\u001b[0m\u001b[1;33m)\u001b[0m\u001b[1;33m\u001b[0m\u001b[1;33m\u001b[0m\u001b[0m\n\u001b[0;32m      2\u001b[0m \u001b[0my_pred\u001b[0m \u001b[1;33m=\u001b[0m \u001b[0mtorch\u001b[0m\u001b[1;33m.\u001b[0m\u001b[0mwhere\u001b[0m\u001b[1;33m(\u001b[0m\u001b[0my_pred\u001b[0m\u001b[1;33m>=\u001b[0m\u001b[1;36m0.5\u001b[0m\u001b[1;33m,\u001b[0m \u001b[1;36m1\u001b[0m\u001b[1;33m,\u001b[0m \u001b[1;36m0\u001b[0m\u001b[1;33m)\u001b[0m\u001b[1;33m.\u001b[0m\u001b[0mflatten\u001b[0m\u001b[1;33m(\u001b[0m\u001b[1;33m)\u001b[0m\u001b[1;33m\u001b[0m\u001b[1;33m\u001b[0m\u001b[0m\n\u001b[1;32m----> 3\u001b[1;33m \u001b[0mac\u001b[0m\u001b[1;33m\u001b[0m\u001b[1;33m\u001b[0m\u001b[0m\n\u001b[0m\u001b[0;32m      4\u001b[0m \u001b[0mprint\u001b[0m\u001b[1;33m(\u001b[0m\u001b[0mclassification_report\u001b[0m\u001b[1;33m(\u001b[0m\u001b[0my_pred\u001b[0m\u001b[1;33m,\u001b[0m\u001b[0mtest_y\u001b[0m\u001b[1;33m)\u001b[0m\u001b[1;33m)\u001b[0m\u001b[1;33m\u001b[0m\u001b[1;33m\u001b[0m\u001b[0m\n",
      "\u001b[1;31mNameError\u001b[0m: name 'ac' is not defined"
     ]
    }
   ],
   "source": [
    "y_pred = best_model(test_x)\n",
    "y_pred = torch.where(y_pred>=0.5, 1, 0).flatten()\n",
    "ac\n",
    "print(classification_report(y_pred,test_y))"
   ]
  },
  {
   "cell_type": "code",
   "execution_count": 61,
   "id": "539751db",
   "metadata": {},
   "outputs": [
    {
     "name": "stdout",
     "output_type": "stream",
     "text": [
      "              precision    recall  f1-score   support\n",
      "\n",
      "           0       0.99      0.94      0.97      1203\n",
      "           1       0.38      0.87      0.53        47\n",
      "\n",
      "    accuracy                           0.94      1250\n",
      "   macro avg       0.69      0.91      0.75      1250\n",
      "weighted avg       0.97      0.94      0.95      1250\n",
      "\n"
     ]
    }
   ],
   "source": [
    "print(ga_report)"
   ]
  },
  {
   "cell_type": "code",
   "execution_count": 62,
   "id": "d8840a48",
   "metadata": {},
   "outputs": [
    {
     "name": "stdout",
     "output_type": "stream",
     "text": [
      "              precision    recall  f1-score   support\n",
      "\n",
      "           0       1.00      0.98      0.99      1157\n",
      "           1       0.83      0.97      0.90        93\n",
      "\n",
      "    accuracy                           0.98      1250\n",
      "   macro avg       0.92      0.98      0.94      1250\n",
      "weighted avg       0.99      0.98      0.98      1250\n",
      "\n"
     ]
    }
   ],
   "source": [
    "print(py_report)"
   ]
  }
 ],
 "metadata": {
  "kernelspec": {
   "display_name": "Python 3 (ipykernel)",
   "language": "python",
   "name": "python3"
  },
  "language_info": {
   "codemirror_mode": {
    "name": "ipython",
    "version": 3
   },
   "file_extension": ".py",
   "mimetype": "text/x-python",
   "name": "python",
   "nbconvert_exporter": "python",
   "pygments_lexer": "ipython3",
   "version": "3.9.13"
  }
 },
 "nbformat": 4,
 "nbformat_minor": 5
}
